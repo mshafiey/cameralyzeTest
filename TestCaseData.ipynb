{
  "nbformat": 4,
  "nbformat_minor": 0,
  "metadata": {
    "colab": {
      "name": "TestCaseData.ipynb",
      "provenance": [],
      "collapsed_sections": []
    },
    "kernelspec": {
      "name": "python3",
      "display_name": "Python 3"
    },
    "language_info": {
      "name": "python"
    }
  },
  "cells": [
    {
      "cell_type": "code",
      "execution_count": 69,
      "metadata": {
        "colab": {
          "base_uri": "https://localhost:8080/"
        },
        "id": "hg-gL65SS-Mn",
        "outputId": "1f0eb4dc-d815-4980-c405-34cd43b4c0b2"
      },
      "outputs": [
        {
          "output_type": "stream",
          "name": "stdout",
          "text": [
            "Maximom vlaue is 466 in date 2021-04-21 and minimum value is 0 in date 2021-02-14\n"
          ]
        }
      ],
      "source": [
        "from numpy.lib.index_tricks import AxisConcatenator\n",
        "import pandas as pd \n",
        "TestCaseData=pd.read_excel('TestCaseData.xlsx')\n",
        "TestCaseData.set_axis(['date', 'value'],axis='columns', inplace=True)\n",
        "\n",
        "Max = TestCaseData[TestCaseData.values == TestCaseData.value.max()].reset_index()\n",
        "Min = TestCaseData[TestCaseData.values == TestCaseData.value.min()].reset_index()\n",
        "\n",
        "\n",
        "print('Maximom vlaue is {} in date {} and minimum value is {} in date {}'.format\n",
        "       (Max.iat[0,2],Max.iat[0,1].date(), Min.iat[0,2],Min.iat[0,1].date()) )\n",
        "\n"
      ]
    }
  ]
}